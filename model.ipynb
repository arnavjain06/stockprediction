{
 "cells": [
  {
   "cell_type": "code",
   "execution_count": 5,
   "metadata": {},
   "outputs": [],
   "source": [
    "import yfinance as yf\n",
    "import pandas as pd\n",
    "from datetime import date\n"
   ]
  },
  {
   "cell_type": "code",
   "execution_count": 6,
   "metadata": {},
   "outputs": [
    {
     "name": "stderr",
     "output_type": "stream",
     "text": [
      "[*********************100%***********************]  1 of 1 completed\n"
     ]
    }
   ],
   "source": [
    "START = \"2015-01-01\"\n",
    "TODAY = date.today().strftime(\"%Y-%m-%d\")\n",
    "\n",
    "df = yf.download ('NVDA', START, TODAY)"
   ]
  },
  {
   "cell_type": "code",
   "execution_count": 10,
   "metadata": {},
   "outputs": [
    {
     "data": {
      "text/html": [
       "<div>\n",
       "<style scoped>\n",
       "    .dataframe tbody tr th:only-of-type {\n",
       "        vertical-align: middle;\n",
       "    }\n",
       "\n",
       "    .dataframe tbody tr th {\n",
       "        vertical-align: top;\n",
       "    }\n",
       "\n",
       "    .dataframe thead th {\n",
       "        text-align: right;\n",
       "    }\n",
       "</style>\n",
       "<table border=\"1\" class=\"dataframe\">\n",
       "  <thead>\n",
       "    <tr style=\"text-align: right;\">\n",
       "      <th></th>\n",
       "      <th>Open</th>\n",
       "      <th>High</th>\n",
       "      <th>Low</th>\n",
       "      <th>Close</th>\n",
       "      <th>Adj Close</th>\n",
       "      <th>Volume</th>\n",
       "    </tr>\n",
       "    <tr>\n",
       "      <th>Date</th>\n",
       "      <th></th>\n",
       "      <th></th>\n",
       "      <th></th>\n",
       "      <th></th>\n",
       "      <th></th>\n",
       "      <th></th>\n",
       "    </tr>\n",
       "  </thead>\n",
       "  <tbody>\n",
       "    <tr>\n",
       "      <th>2024-08-28</th>\n",
       "      <td>128.119995</td>\n",
       "      <td>128.330002</td>\n",
       "      <td>122.639999</td>\n",
       "      <td>125.610001</td>\n",
       "      <td>125.610001</td>\n",
       "      <td>448101100</td>\n",
       "    </tr>\n",
       "    <tr>\n",
       "      <th>2024-08-29</th>\n",
       "      <td>121.360001</td>\n",
       "      <td>124.430000</td>\n",
       "      <td>116.709999</td>\n",
       "      <td>117.589996</td>\n",
       "      <td>117.589996</td>\n",
       "      <td>453023300</td>\n",
       "    </tr>\n",
       "    <tr>\n",
       "      <th>2024-08-30</th>\n",
       "      <td>119.529999</td>\n",
       "      <td>121.750000</td>\n",
       "      <td>117.220001</td>\n",
       "      <td>119.370003</td>\n",
       "      <td>119.370003</td>\n",
       "      <td>333751600</td>\n",
       "    </tr>\n",
       "    <tr>\n",
       "      <th>2024-09-03</th>\n",
       "      <td>116.010002</td>\n",
       "      <td>116.209999</td>\n",
       "      <td>107.290001</td>\n",
       "      <td>108.000000</td>\n",
       "      <td>108.000000</td>\n",
       "      <td>474040800</td>\n",
       "    </tr>\n",
       "    <tr>\n",
       "      <th>2024-09-04</th>\n",
       "      <td>105.410004</td>\n",
       "      <td>113.269997</td>\n",
       "      <td>104.120003</td>\n",
       "      <td>106.209999</td>\n",
       "      <td>106.209999</td>\n",
       "      <td>370960700</td>\n",
       "    </tr>\n",
       "  </tbody>\n",
       "</table>\n",
       "</div>"
      ],
      "text/plain": [
       "                  Open        High         Low       Close   Adj Close  \\\n",
       "Date                                                                     \n",
       "2024-08-28  128.119995  128.330002  122.639999  125.610001  125.610001   \n",
       "2024-08-29  121.360001  124.430000  116.709999  117.589996  117.589996   \n",
       "2024-08-30  119.529999  121.750000  117.220001  119.370003  119.370003   \n",
       "2024-09-03  116.010002  116.209999  107.290001  108.000000  108.000000   \n",
       "2024-09-04  105.410004  113.269997  104.120003  106.209999  106.209999   \n",
       "\n",
       "               Volume  \n",
       "Date                   \n",
       "2024-08-28  448101100  \n",
       "2024-08-29  453023300  \n",
       "2024-08-30  333751600  \n",
       "2024-09-03  474040800  \n",
       "2024-09-04  370960700  "
      ]
     },
     "execution_count": 10,
     "metadata": {},
     "output_type": "execute_result"
    }
   ],
   "source": [
    "df.tail()"
   ]
  },
  {
   "cell_type": "code",
   "execution_count": null,
   "metadata": {},
   "outputs": [],
   "source": []
  }
 ],
 "metadata": {
  "kernelspec": {
   "display_name": "myenv",
   "language": "python",
   "name": "python3"
  },
  "language_info": {
   "codemirror_mode": {
    "name": "ipython",
    "version": 3
   },
   "file_extension": ".py",
   "mimetype": "text/x-python",
   "name": "python",
   "nbconvert_exporter": "python",
   "pygments_lexer": "ipython3",
   "version": "3.11.5"
  },
  "orig_nbformat": 4
 },
 "nbformat": 4,
 "nbformat_minor": 2
}
